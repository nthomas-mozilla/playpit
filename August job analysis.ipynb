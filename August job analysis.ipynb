{
 "cells": [
  {
   "cell_type": "code",
   "execution_count": 1,
   "metadata": {
    "collapsed": false
   },
   "outputs": [],
   "source": [
    "from collections import defaultdict\n",
    "from glob import glob\n",
    "\n",
    "import simplejson as json"
   ]
  },
  {
   "cell_type": "code",
   "execution_count": 2,
   "metadata": {
    "collapsed": true
   },
   "outputs": [],
   "source": [
    "# data structure\n",
    "#accum = {\n",
    "#    slavepool: {\n",
    "#        total_time: int seconds\n",
    "#        total_jobs: int\n",
    "#    }\n",
    "#}\n",
    "accum = defaultdict(lambda: {'total_time': 0, 'total_jobs':0 })"
   ]
  },
  {
   "cell_type": "code",
   "execution_count": 8,
   "metadata": {
    "collapsed": true
   },
   "outputs": [],
   "source": [
    "# these were acqired with wget and gunziped,\n",
    "# eg https://secure.pub.build.mozilla.org/builddata/buildjson/builds-2016-08-01.js.gz\n",
    "data_files = glob('builds-2016-08-??.js')"
   ]
  },
  {
   "cell_type": "code",
   "execution_count": 4,
   "metadata": {
    "collapsed": false
   },
   "outputs": [
    {
     "name": "stdout",
     "output_type": "stream",
     "text": [
      "Opening builds-2016-08-01.js...  Processing...  Got 105937 jobs, dropped 3\n",
      "Opening builds-2016-08-02.js...  Processing...  Got 134657 jobs, dropped 6\n",
      "Opening builds-2016-08-03.js...  Processing...  Got 137620 jobs, dropped 0\n",
      "Opening builds-2016-08-04.js...  Processing...  Got 133351 jobs, dropped 0\n",
      "Opening builds-2016-08-05.js...  Processing...  Got 117585 jobs, dropped 0\n",
      "Opening builds-2016-08-06.js...  Processing...  Got 39775 jobs, dropped 0\n",
      "Opening builds-2016-08-07.js...  Processing...  Got 24492 jobs, dropped 0\n",
      "Opening builds-2016-08-08.js...  Processing...  Got 120141 jobs, dropped 2\n",
      "Opening builds-2016-08-09.js...  Processing...  Got 123737 jobs, dropped 5\n",
      "Opening builds-2016-08-10.js...  Processing...  Got 107863 jobs, dropped 0\n",
      "Opening builds-2016-08-11.js...  Processing...  Got 124093 jobs, dropped 0\n",
      "Opening builds-2016-08-12.js...  Processing...  Got 83869 jobs, dropped 0\n",
      "Opening builds-2016-08-13.js...  Processing...  Got 59980 jobs, dropped 0\n",
      "Opening builds-2016-08-14.js...  Processing...  Got 14633 jobs, dropped 0\n",
      "Opening builds-2016-08-15.js...  Processing...  Got 85541 jobs, dropped 0\n",
      "Opening builds-2016-08-16.js...  Processing...  Got 142568 jobs, dropped 5\n",
      "Opening builds-2016-08-17.js...  Processing...  Got 115578 jobs, dropped 3\n",
      "Opening builds-2016-08-18.js...  Processing...  Got 143123 jobs, dropped 10\n",
      "Opening builds-2016-08-19.js...  Processing...  Got 134534 jobs, dropped 9\n",
      "Opening builds-2016-08-20.js...  Processing...  Got 42777 jobs, dropped 0\n",
      "Opening builds-2016-08-21.js...  Processing...  Got 28675 jobs, dropped 0\n",
      "Opening builds-2016-08-22.js...  Processing...  Got 104284 jobs, dropped 0\n",
      "Opening builds-2016-08-23.js...  Processing...  Got 117869 jobs, dropped 5\n",
      "Opening builds-2016-08-24.js...  Processing...  Got 92647 jobs, dropped 0\n",
      "Opening builds-2016-08-25.js...  Processing...  Got 125482 jobs, dropped 0\n",
      "Opening builds-2016-08-26.js...  Processing...  Got 117562 jobs, dropped 5\n",
      "Opening builds-2016-08-27.js...  Processing...  Got 49604 jobs, dropped 2\n",
      "Opening builds-2016-08-28.js...  Processing...  Got 16921 jobs, dropped 0\n",
      "Opening builds-2016-08-29.js...  Processing...  Got 87842 jobs, dropped 0\n",
      "Opening builds-2016-08-30.js...  Processing...  Got 115708 jobs, dropped 0\n",
      "Opening builds-2016-08-31.js...  Processing...  Got 112548 jobs, dropped 7\n"
     ]
    }
   ],
   "source": [
    "for d in data_files:\n",
    "    count = drop = 0\n",
    "    print \"Opening %s... \" % d,\n",
    "    data = json.load(open(d))\n",
    "    print \"Processing... \",\n",
    "    for job in data['builds']:\n",
    "        try:\n",
    "            elapsed = job['endtime'] - job['starttime']\n",
    "            slave_name = job['properties']['slavename']\n",
    "            builder_name = job['properties']['buildername']\n",
    "            slave_pool = slave_name.rsplit('-',1)[0]\n",
    "\n",
    "            accum[slave_pool]['total_time'] += elapsed\n",
    "            accum[slave_pool]['total_jobs'] += 1\n",
    "            count += 1\n",
    "        except:\n",
    "            drop += 1\n",
    "    print \"Got %s jobs, dropped %s\" % (count, drop)"
   ]
  },
  {
   "cell_type": "code",
   "execution_count": 7,
   "metadata": {
    "collapsed": false
   },
   "outputs": [
    {
     "name": "stdout",
     "output_type": "stream",
     "text": [
      "\n",
      "Slave pool              Total seconds  Total jobs  Avg seconds per job\n",
      "av-linux64-spot                  3387           3        1129\n",
      "b-2008-spot                  90721866       37178        2440\n",
      "bld-linux64-spot             92391345       38724        2385\n",
      "bld-lion-r5                  75184617       35641        2109\n",
      "g-w732-spot                  62892265       33007        1905\n",
      "t-snow-r4                     3374735        2817        1197\n",
      "t-w1064-ix                     623574         534        1167\n",
      "t-w732-ix                   378881294      264403        1432\n",
      "t-w732-spot                 639308233      397513        1608\n",
      "t-w864-ix                   322731998      223206        1445\n",
      "t-xp32-ix                   221676335      167023        1327\n",
      "t-yosemite-r7               583493671      503296        1159\n",
      "talos-linux64-ix             76472356       68595        1114\n",
      "try-linux64-spot             44534924       15133        2942\n",
      "tst-emulator64-spot         408405241      155745        2622\n",
      "tst-linux32-spot           1181319670      540110        2187\n",
      "tst-linux64-spot            885894052      464917        1905\n",
      "y-2008-spot                  54755158       13151        4163\n"
     ]
    }
   ],
   "source": [
    "print \"\\n%-20s  %15s  %10s  %10s\" % ('Slave pool', 'Total seconds', 'Total jobs', 'Avg seconds per job')\n",
    "for sp in sorted(accum.keys()):\n",
    "    print \"%-20s  %15.0f  %10.0f  %10.0f\" % (sp, accum[sp]['total_time'], accum[sp]['total_jobs'], \n",
    "                                            accum[sp]['total_time']/accum[sp]['total_jobs'])"
   ]
  },
  {
   "cell_type": "code",
   "execution_count": null,
   "metadata": {
    "collapsed": true
   },
   "outputs": [],
   "source": []
  }
 ],
 "metadata": {
  "kernelspec": {
   "display_name": "Python 2",
   "language": "python",
   "name": "python2"
  },
  "language_info": {
   "codemirror_mode": {
    "name": "ipython",
    "version": 2
   },
   "file_extension": ".py",
   "mimetype": "text/x-python",
   "name": "python",
   "nbconvert_exporter": "python",
   "pygments_lexer": "ipython2",
   "version": "2.7.11"
  }
 },
 "nbformat": 4,
 "nbformat_minor": 0
}
